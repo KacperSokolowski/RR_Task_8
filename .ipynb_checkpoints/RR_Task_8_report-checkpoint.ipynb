{
 "cells": [
  {
   "cell_type": "markdown",
   "id": "42d71a51-de63-4bd6-8011-0aec266d17f1",
   "metadata": {},
   "source": [
    "## Suits viewership numbers analysis"
   ]
  },
  {
   "cell_type": "markdown",
   "id": "b298c5a8-21f5-496d-9f5c-8b01fe105492",
   "metadata": {},
   "source": [
    "Author: Kacper Sokolowski<br>\n",
    "Date: 21/04/2024"
   ]
  },
  {
   "cell_type": "markdown",
   "id": "bc03dfd6-1d89-47fc-9f03-5f6d47e91ed0",
   "metadata": {},
   "source": [
    "![Suits Logo](suits.png \"Suits TV Series Logo\")\n",
    "\n",
    "__Suits (TV Series)__\n",
    "\n",
    "*Suits* is an American legal drama television series created and written by Aaron Korsh. The show premiered on June 23, 2011, on the cable network USA, and concluded on September 25, 2019, after nine seasons and 134 episodes.\n",
    "\n",
    "__Overview__\n",
    "\n",
    "The series revolves around Harvey Specter (Gabriel Macht), a senior partner at a top law firm in Manhattan, and his recently hired associate attorney Mike Ross (Patrick J. Adams). What sets Mike apart is his eidetic memory and his genuine law expertise despite never attending law school. The show focuses on Harvey and Mike managing to close cases while maintaining Mike's secret.\n",
    "\n",
    "__Themes and Setting__\n",
    "\n",
    "*Suits* is set at a fictional law firm in New York City, and later in the series, the firm undergoes several name changes due to shifts in leadership and mergers. The show features a slick, polished aesthetic and fast-paced dialogues. It delves into various themes such as mentorship, the cost of success, and the moral ambiguity of high-stakes law practice.\n",
    "\n",
    "__Reception__\n",
    "\n",
    "The show has been well-received for its sharp wit, characters, and performances. It also gained recognition for its stylish wardrobe, particularly the impeccable suits worn by the characters, contributing to the show's name and allure."
   ]
  },
  {
   "cell_type": "markdown",
   "id": "fc730f51-91ef-471b-836e-e3f3902a3ef0",
   "metadata": {},
   "source": [
    "### Required libraries"
   ]
  },
  {
   "cell_type": "code",
   "execution_count": 1,
   "id": "8f98f8c1-6ca8-4cf5-a2de-600bbea5f4b1",
   "metadata": {},
   "outputs": [],
   "source": [
    "import requests\n",
    "from bs4 import BeautifulSoup\n",
    "import pandas as pd"
   ]
  },
  {
   "cell_type": "markdown",
   "id": "f159585c-4293-4c99-a6f1-7d431bf89d0d",
   "metadata": {},
   "source": [
    "### Collect viewership data"
   ]
  },
  {
   "cell_type": "code",
   "execution_count": 12,
   "id": "a49c579b-9219-4d68-b0cf-a78ed413d174",
   "metadata": {},
   "outputs": [],
   "source": [
    "url = 'https://en.wikipedia.org/wiki/List_of_Suits_episodes'\n",
    "\n",
    "response = requests.get(url)\n",
    "\n",
    "soup = BeautifulSoup(response.text, 'html.parser')\n",
    "\n",
    "tables = soup.findAll('table', {'class': 'wikitable plainrowheaders wikiepisodetable'})\n",
    "\n",
    "viewership_data = []\n",
    "\n",
    "season = 0\n",
    "for table in tables[:-1]:\n",
    "    rows = table.find_all('tr')\n",
    "    for row in rows[1:]:\n",
    "        cols = row.find_all('td')\n",
    "        if cols:\n",
    "            episode = cols[0].text.strip()\n",
    "            viewers = cols[-1].text.strip()\n",
    "            \n",
    "            viewers = float(viewers[:4])\n",
    "            episode = int(''.join(filter(str.isdigit, episode)))\n",
    "            \n",
    "            if episode == 1:\n",
    "                season += 1\n",
    "            \n",
    "            viewership_data.append((season, episode, viewers))\n",
    "\n",
    "df = pd.DataFrame(viewership_data, columns=['Season', 'Episode', 'Viewers'])"
   ]
  },
  {
   "cell_type": "code",
   "execution_count": 13,
   "id": "a5258330-f4fe-4425-bf90-c0e047ad1128",
   "metadata": {},
   "outputs": [
    {
     "data": {
      "text/html": [
       "<div>\n",
       "<style scoped>\n",
       "    .dataframe tbody tr th:only-of-type {\n",
       "        vertical-align: middle;\n",
       "    }\n",
       "\n",
       "    .dataframe tbody tr th {\n",
       "        vertical-align: top;\n",
       "    }\n",
       "\n",
       "    .dataframe thead th {\n",
       "        text-align: right;\n",
       "    }\n",
       "</style>\n",
       "<table border=\"1\" class=\"dataframe\">\n",
       "  <thead>\n",
       "    <tr style=\"text-align: right;\">\n",
       "      <th></th>\n",
       "      <th>Season</th>\n",
       "      <th>Episode</th>\n",
       "      <th>Viewers</th>\n",
       "    </tr>\n",
       "  </thead>\n",
       "  <tbody>\n",
       "    <tr>\n",
       "      <th>0</th>\n",
       "      <td>1</td>\n",
       "      <td>1</td>\n",
       "      <td>4.64</td>\n",
       "    </tr>\n",
       "    <tr>\n",
       "      <th>1</th>\n",
       "      <td>1</td>\n",
       "      <td>2</td>\n",
       "      <td>3.89</td>\n",
       "    </tr>\n",
       "    <tr>\n",
       "      <th>2</th>\n",
       "      <td>1</td>\n",
       "      <td>3</td>\n",
       "      <td>4.53</td>\n",
       "    </tr>\n",
       "    <tr>\n",
       "      <th>3</th>\n",
       "      <td>1</td>\n",
       "      <td>4</td>\n",
       "      <td>4.38</td>\n",
       "    </tr>\n",
       "    <tr>\n",
       "      <th>4</th>\n",
       "      <td>1</td>\n",
       "      <td>5</td>\n",
       "      <td>4.38</td>\n",
       "    </tr>\n",
       "    <tr>\n",
       "      <th>...</th>\n",
       "      <td>...</td>\n",
       "      <td>...</td>\n",
       "      <td>...</td>\n",
       "    </tr>\n",
       "    <tr>\n",
       "      <th>129</th>\n",
       "      <td>9</td>\n",
       "      <td>6</td>\n",
       "      <td>1.05</td>\n",
       "    </tr>\n",
       "    <tr>\n",
       "      <th>130</th>\n",
       "      <td>9</td>\n",
       "      <td>7</td>\n",
       "      <td>1.07</td>\n",
       "    </tr>\n",
       "    <tr>\n",
       "      <th>131</th>\n",
       "      <td>9</td>\n",
       "      <td>8</td>\n",
       "      <td>0.97</td>\n",
       "    </tr>\n",
       "    <tr>\n",
       "      <th>132</th>\n",
       "      <td>9</td>\n",
       "      <td>9</td>\n",
       "      <td>0.96</td>\n",
       "    </tr>\n",
       "    <tr>\n",
       "      <th>133</th>\n",
       "      <td>9</td>\n",
       "      <td>10</td>\n",
       "      <td>0.86</td>\n",
       "    </tr>\n",
       "  </tbody>\n",
       "</table>\n",
       "<p>134 rows × 3 columns</p>\n",
       "</div>"
      ],
      "text/plain": [
       "     Season  Episode  Viewers\n",
       "0         1        1     4.64\n",
       "1         1        2     3.89\n",
       "2         1        3     4.53\n",
       "3         1        4     4.38\n",
       "4         1        5     4.38\n",
       "..      ...      ...      ...\n",
       "129       9        6     1.05\n",
       "130       9        7     1.07\n",
       "131       9        8     0.97\n",
       "132       9        9     0.96\n",
       "133       9       10     0.86\n",
       "\n",
       "[134 rows x 3 columns]"
      ]
     },
     "execution_count": 13,
     "metadata": {},
     "output_type": "execute_result"
    }
   ],
   "source": [
    "df"
   ]
  },
  {
   "cell_type": "code",
   "execution_count": null,
   "id": "3c892c75-2e09-49d2-8238-416f6eb73708",
   "metadata": {},
   "outputs": [],
   "source": []
  }
 ],
 "metadata": {
  "kernelspec": {
   "display_name": "Python 3 (ipykernel)",
   "language": "python",
   "name": "python3"
  },
  "language_info": {
   "codemirror_mode": {
    "name": "ipython",
    "version": 3
   },
   "file_extension": ".py",
   "mimetype": "text/x-python",
   "name": "python",
   "nbconvert_exporter": "python",
   "pygments_lexer": "ipython3",
   "version": "3.11.5"
  }
 },
 "nbformat": 4,
 "nbformat_minor": 5
}
